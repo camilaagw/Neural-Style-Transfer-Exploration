{
 "cells": [
  {
   "cell_type": "markdown",
   "id": "006414be-ca40-4215-b759-6c9480898693",
   "metadata": {},
   "source": [
    "## Initial settings"
   ]
  },
  {
   "cell_type": "code",
   "execution_count": 2,
   "id": "e971277b-91c9-4ba2-82fb-29285cc71dc2",
   "metadata": {
    "tags": []
   },
   "outputs": [],
   "source": [
    "%%capture\n",
    "import sys\n",
    "!{sys.executable} -m pip install smdebug torch torchvision tqdm"
   ]
  },
  {
   "cell_type": "code",
   "execution_count": 72,
   "id": "cb05532d-5e35-47fd-b850-f76f63bbad8f",
   "metadata": {
    "tags": []
   },
   "outputs": [],
   "source": [
    "import json\n",
    "import boto3\n",
    "import sagemaker\n",
    "from sagemaker.pytorch import PyTorch\n",
    "from sagemaker import get_execution_role\n",
    "from sagemaker.estimator import Estimator\n",
    "import matplotlib.pyplot as plt\n",
    "from PIL import Image\n",
    "import boto3\n",
    "from time import sleep\n",
    "import os\n",
    "\n",
    "INPUT_LOCAL_PATH = './data/input'\n",
    "INPUT_CONTENT_PATH = f'{INPUT_LOCAL_PATH}/content-images'\n",
    "INPUT_STYLE_PATH = f'{INPUT_LOCAL_PATH}/style-images'\n",
    "\n",
    "OUTPUT_LOCAL_PATH = './data/output'\n",
    "OUTPUT_DOWNLOADS_PATH = f'{OUTPUT_LOCAL_PATH}/model-downloads'\n",
    "OUTPUT_RESULTS_PATH = f'{OUTPUT_LOCAL_PATH}/model-results'\n",
    "\n",
    "METADATA_LOCAL_PATH = './estimators_metadata'"
   ]
  },
  {
   "cell_type": "code",
   "execution_count": 17,
   "id": "846c8fd4-ffd4-476a-b4a1-4b773e46dcc3",
   "metadata": {
    "tags": []
   },
   "outputs": [
    {
     "name": "stdout",
     "output_type": "stream",
     "text": [
      "Default Bucket: sagemaker-us-east-1-798714931926\n",
      "AWS Region: us-east-1\n",
      "RoleArn: arn:aws:iam::798714931926:role/service-role/AmazonSageMaker-ExecutionRole-20230319T062026\n"
     ]
    }
   ],
   "source": [
    "session = sagemaker.Session()\n",
    "\n",
    "bucket_sagemaker = session.default_bucket()\n",
    "print(\"Default Bucket: {}\".format(bucket_sagemaker))\n",
    "\n",
    "region = session.boto_region_name\n",
    "print(\"AWS Region: {}\".format(region))\n",
    "\n",
    "role = sagemaker.get_execution_role()\n",
    "print(\"RoleArn: {}\".format(role))"
   ]
  },
  {
   "cell_type": "markdown",
   "id": "a47c5b00-1f65-48dd-88b8-1c3083d3fc4a",
   "metadata": {},
   "source": [
    "## Copy content and style images to S3"
   ]
  },
  {
   "cell_type": "raw",
   "id": "bfe44a02-3642-461f-8841-e8ec25fd578e",
   "metadata": {
    "tags": []
   },
   "source": [
    "!aws s3 ls s3://sagemaker-studio-sr1encmpcxc"
   ]
  },
  {
   "cell_type": "code",
   "execution_count": 7,
   "id": "0f639699-68ad-484e-9683-a0ac912476bd",
   "metadata": {
    "tags": []
   },
   "outputs": [],
   "source": [
    "CONTENT_IMAGES_BUCKET = 's3://sagemaker-studio-sr1encmpcxc/content-images/'\n",
    "STYLE_IMAGES_BUCKET = 's3://sagemaker-studio-sr1encmpcxc/style-images/'\n",
    "OUTPUT_BUCKET = 's3://sagemaker-studio-sr1encmpcxc/output/'"
   ]
  },
  {
   "cell_type": "code",
   "execution_count": 11,
   "id": "3305d445-06ad-4600-9599-8c13b9d0f034",
   "metadata": {
    "tags": []
   },
   "outputs": [
    {
     "name": "stdout",
     "output_type": "stream",
     "text": [
      "upload: data/input/content-images/sherlock.jpeg to s3://sagemaker-studio-sr1encmpcxc/content-images/sherlock.jpeg\n",
      "upload: data/input/content-images/YellowLabradorLooking_new.jpeg to s3://sagemaker-studio-sr1encmpcxc/content-images/YellowLabradorLooking_new.jpeg\n",
      "upload: data/input/content-images/jennifer-lawrence.png to s3://sagemaker-studio-sr1encmpcxc/content-images/jennifer-lawrence.png\n",
      "upload: data/input/content-images/sphynx_cat.jpg to s3://sagemaker-studio-sr1encmpcxc/content-images/sphynx_cat.jpg\n",
      "upload: data/input/content-images/lavaux.jpeg to s3://sagemaker-studio-sr1encmpcxc/content-images/lavaux.jpeg\n",
      "upload: data/input/content-images/monalisa.jpg to s3://sagemaker-studio-sr1encmpcxc/content-images/monalisa.jpg\n",
      "upload: data/input/content-images/debarcadere.jpeg to s3://sagemaker-studio-sr1encmpcxc/content-images/debarcadere.jpeg\n"
     ]
    }
   ],
   "source": [
    "!aws s3 cp  ./data/input/content-images  {CONTENT_IMAGES_BUCKET}  --recursive"
   ]
  },
  {
   "cell_type": "code",
   "execution_count": 13,
   "id": "f4e0720e-9fa3-4730-ad85-004679881656",
   "metadata": {
    "tags": []
   },
   "outputs": [],
   "source": [
    "%%capture\n",
    "!aws s3 cp  ./data/input/style-images  {STYLE_IMAGES_BUCKET}  --recursive"
   ]
  },
  {
   "cell_type": "markdown",
   "id": "29f51e05-2352-4f02-acf3-67b30ba47ada",
   "metadata": {},
   "source": [
    "## Run estimators"
   ]
  },
  {
   "cell_type": "markdown",
   "id": "7bd635e1-d858-42db-ba0e-e03d7d1fdb98",
   "metadata": {},
   "source": [
    "#### Setup and Fit estimators"
   ]
  },
  {
   "cell_type": "code",
   "execution_count": 76,
   "id": "1fb097d3-5478-4e31-a3f3-285a5d9f0035",
   "metadata": {
    "tags": []
   },
   "outputs": [
    {
     "name": "stderr",
     "output_type": "stream",
     "text": [
      "INFO:sagemaker.image_uris:image_uri is not presented, retrieving image_uri based on instance_type, framework etc.\n",
      "INFO:sagemaker:Creating training-job with name: pytorch-style-transfer22-2023-04-15-12-42-10-103\n"
     ]
    },
    {
     "data": {
      "text/plain": [
       "['pytorch-style-transfer22-2023-04-15-11-09-01-111',\n",
       " 'pytorch-style-transfer22-2023-04-15-11-09-02-400',\n",
       " 'pytorch-style-transfer22-2023-04-15-11-09-03-496',\n",
       " 'pytorch-style-transfer22-2023-04-15-11-09-04-198',\n",
       " 'pytorch-style-transfer22-2023-04-15-11-09-05-115',\n",
       " 'pytorch-style-transfer22-2023-04-15-11-09-06-670',\n",
       " 'pytorch-style-transfer22-2023-04-15-11-09-07-688',\n",
       " 'pytorch-style-transfer22-2023-04-15-11-09-08-256',\n",
       " 'pytorch-style-transfer22-2023-04-15-11-09-09-503',\n",
       " 'pytorch-style-transfer22-2023-04-15-11-38-34-217',\n",
       " 'pytorch-style-transfer22-2023-04-15-12-05-36-695',\n",
       " 'pytorch-style-transfer22-2023-04-15-12-05-37-456',\n",
       " 'pytorch-style-transfer22-2023-04-15-12-05-43-908',\n",
       " 'pytorch-style-transfer22-2023-04-15-12-05-44-512',\n",
       " 'pytorch-style-transfer22-2023-04-15-12-05-45-086',\n",
       " 'pytorch-style-transfer22-2023-04-15-12-05-46-107',\n",
       " 'pytorch-style-transfer22-2023-04-15-12-05-46-909',\n",
       " 'pytorch-style-transfer22-2023-04-15-12-42-10-103']"
      ]
     },
     "execution_count": 76,
     "metadata": {},
     "output_type": "execute_result"
    }
   ],
   "source": [
    "#estimator_names = []\n",
    "\n",
    "num_steps = 300\n",
    "num_iter = 2\n",
    "style_weight = 1e6\n",
    "content_weight = 1e1\n",
    "\n",
    "content_image = 'sphynx_cat.jpg'\n",
    "\n",
    "style_images = [\n",
    "    'Joan_Miro_39.jpg',\n",
    "    'Pablo_Picasso_416.jpg',\n",
    "    'Paul_Klee_23.jpg',\n",
    "    'Paul_Klee_58.jpg',\n",
    "    'Paul_Klee_95.jpg',\n",
    "    'Pierre-Auguste_Renoir_23.jpg',\n",
    "    'Vincent_van_Gogh_575.jpg',\n",
    "    'Pierre-Auguste_Renoir_52.jpg',\n",
    "    'Pierre-Auguste_Renoir_250.jpg',\n",
    "    'Andy_Warhol_66.jpg',\n",
    "    'Pablo_Picasso_130.jpg',\n",
    "    'Edvard_Munch_3.jpg',\n",
    "    'Georges_Seurat_23.jpg',\n",
    "    'Vincent_van_Gogh_313.jpg',\n",
    "    'Vincent_van_Gogh_69.jpg',\n",
    "    'Vincent_van_Gogh_872.jpg',\n",
    "]\n",
    "\n",
    "for style_img in style_images:\n",
    "    \n",
    "    hyperparameters = {\n",
    "        \"content_image\":content_image ,\n",
    "        \"style_image\": style_img,\n",
    "        \"num_steps\": num_steps,\n",
    "        \"num_iter\": num_iter,\n",
    "        \"style_weight\": style_weight,\n",
    "        \"content_weight\": content_weight\n",
    "    }\n",
    "    hyperparams_keys= list(hyperparameters.keys())\n",
    "    \n",
    "    estimator = PyTorch(\n",
    "        entry_point=\"style_transfer_pytorch.py\",\n",
    "        base_job_name='pytorch-style-transfer22',\n",
    "        role=role,\n",
    "        framework_version=\"1.8.0\",\n",
    "        instance_count=1,\n",
    "        instance_type=\"ml.m5.large\",\n",
    "        py_version='py3',\n",
    "        hyperparameters=hyperparameters,\n",
    "        output_path=OUTPUT_BUCKET # SM_OUTPUT_DATA_DIR\n",
    "    )\n",
    "\n",
    "\n",
    "    channels = {\n",
    "        \"CONTENT_DATA\": CONTENT_IMAGES_BUCKET, #'SM_CHANNEL_CONTENT_DATA'\n",
    "        \"STYLE_DATA\": STYLE_IMAGES_BUCKET, #SM_CHANNEL_STYLE_DATA\n",
    "        \"SOMETHING-else\": \"s3://sagemaker-studio-sr1encmpcxc/\", #SM_CHANNEL_SOMETHING-ELSE\n",
    "    }\n",
    "    \n",
    "    estimator.fit(channels, wait=False)\n",
    "      \n",
    "    estimator_names.append(estimator._current_job_name)\n",
    "    \n",
    "estimator_names"
   ]
  },
  {
   "cell_type": "markdown",
   "id": "d914e0c0-9715-4b65-b0a1-f10129ea5be5",
   "metadata": {},
   "source": [
    "## Save estimators results"
   ]
  },
  {
   "cell_type": "code",
   "execution_count": 46,
   "id": "266c83f8-91d8-4dea-8e37-6c1201d95956",
   "metadata": {
    "tags": []
   },
   "outputs": [],
   "source": [
    "def save_estimator_hyperparams(estimator):\n",
    "    estimator_name = eval(estimator.hyperparameters()['sagemaker_job_name'])\n",
    "    estimator_file_path = f\"{METADATA_LOCAL_PATH}/{estimator_name}.json\"\n",
    "    with open(estimator_file_path, \"w\") as f:\n",
    "        json.dump(estimator.hyperparameters(), f)\n",
    "\n",
    "        \n",
    "def download_output_images(estimator) -> str:\n",
    "    estimator_name = eval(estimator.hyperparameters()['sagemaker_job_name'])\n",
    "    \n",
    "    image_source_path = f'{OUTPUT_BUCKET}{estimator_name}/output/output.tar.gz'\n",
    "    tar_image_dest_path = f'{OUTPUT_DOWNLOADS_PATH}/{estimator_name}-output.tar.gz'\n",
    "    image_dest_path = f'{OUTPUT_DOWNLOADS_PATH}/{estimator_name}'\n",
    "    \n",
    "    ! aws s3 cp {image_source_path}  {tar_image_dest_path}\n",
    "    ! mkdir -p {image_dest_path}\n",
    "    ! tar -xzf {tar_image_dest_path} -C {image_dest_path} --no-same-owner\n",
    "    ! rm {tar_image_dest_path}\n",
    "\n",
    "\n",
    "def save_experiment(estimator, hyperparams_keys):\n",
    "    hyperparams = estimator.hyperparameters()\n",
    "    \n",
    "    content_img_name = eval(hyperparams['content_image'])\n",
    "    style_img_name = eval(hyperparams['style_image'])\n",
    "    estimator_name = eval(hyperparams['sagemaker_job_name'])\n",
    "    output_images_dir = f'{OUTPUT_DOWNLOADS_PATH}/{estimator_name}'\n",
    "\n",
    "    # Define input paths for the images\n",
    "    content_image_path = f'{INPUT_CONTENT_PATH}/{content_img_name}'\n",
    "    style_image_path = f'{INPUT_STYLE_PATH}/{style_img_name}'\n",
    "    output_image_path = final_image_path(output_images_dir, eval(hyperparams['num_iter']))\n",
    "    \n",
    "    # Define output path for the results summary image\n",
    "    output_experiment_path = f'{OUTPUT_RESULTS_PATH}/{estimator_name}.jpg'\n",
    "    \n",
    "    # Load images\n",
    "    images = [\n",
    "        ('content_image', Image.open(content_image_path)),\n",
    "        ('style_image', Image.open(style_image_path)),\n",
    "        ('output_image', Image.open(output_image_path))\n",
    "    ]\n",
    "\n",
    "    # Plot images\n",
    "    fig, axs = plt.subplots(1, 3,  figsize=(15, 5))\n",
    "    for (img_type, img_data), ax in zip(images, axs):\n",
    "        ax.imshow(img_data)\n",
    "        ax.axis('off')\n",
    "        ax.set_title(img_type)\n",
    "     \n",
    "    title = \" || \".join([f\"{key}: {hyperparams.get(key)}\" for key in hyperparams_keys])\n",
    "    plt.suptitle(title)\n",
    "    fig.tight_layout(rect=[0, 0.03, 1, 0.95])\n",
    "    fig.savefig(output_experiment_path, dpi=100, bbox_inches='tight')\n",
    "        \n",
    "        \n",
    "def final_image_path(output_images_dir: str, num_iter: int) -> str:\n",
    "    return f'{output_images_dir}/result-iter-{num_iter - 1}.jpg'\n",
    "\n",
    "    \n",
    "# # Uncomment to load an existing estimator and test\n",
    "# estimator = Estimator.attach(\"pytorch-style-transfer22-2023-04-11-09-06-19-859\") \n",
    "# download_output_images(estimator)\n",
    "# save_estimator_hyperparams(estimator)\n",
    "# save_experiment(estimator,)"
   ]
  },
  {
   "cell_type": "code",
   "execution_count": null,
   "id": "01ec8b57-af8f-487e-b46f-3cce6a74b13f",
   "metadata": {},
   "outputs": [],
   "source": []
  },
  {
   "cell_type": "code",
   "execution_count": 88,
   "id": "b19afa1f-582c-4d7d-b379-9d55d4f2475b",
   "metadata": {
    "tags": []
   },
   "outputs": [
    {
     "name": "stdout",
     "output_type": "stream",
     "text": [
      "Waiting for incomplete jobs: {'pytorch-style-transfer22-2023-04-15-11-09-04-198', 'pytorch-style-transfer22-2023-04-15-11-09-03-496', 'pytorch-style-transfer22-2023-04-15-12-05-45-086', 'pytorch-style-transfer22-2023-04-15-12-05-46-107', 'pytorch-style-transfer22-2023-04-15-11-38-34-217', 'pytorch-style-transfer22-2023-04-15-11-09-09-503', 'pytorch-style-transfer22-2023-04-15-11-09-07-688', 'pytorch-style-transfer22-2023-04-15-12-05-36-695', 'pytorch-style-transfer22-2023-04-15-12-05-44-512', 'pytorch-style-transfer22-2023-04-15-11-09-01-111', 'pytorch-style-transfer22-2023-04-15-11-09-08-256', 'pytorch-style-transfer22-2023-04-15-12-05-43-908', 'pytorch-style-transfer22-2023-04-15-11-09-05-115', 'pytorch-style-transfer22-2023-04-15-11-09-06-670', 'pytorch-style-transfer22-2023-04-15-12-05-37-456', 'pytorch-style-transfer22-2023-04-15-12-05-46-909'}\n",
      "Completed job: pytorch-style-transfer22-2023-04-15-11-09-04-198\n",
      "Completed job: pytorch-style-transfer22-2023-04-15-11-09-03-496\n",
      "Completed job: pytorch-style-transfer22-2023-04-15-12-05-45-086\n",
      "Completed job: pytorch-style-transfer22-2023-04-15-12-05-46-107\n",
      "Completed job: pytorch-style-transfer22-2023-04-15-11-38-34-217\n",
      "Completed job: pytorch-style-transfer22-2023-04-15-11-09-09-503\n",
      "Completed job: pytorch-style-transfer22-2023-04-15-11-09-07-688\n",
      "Completed job: pytorch-style-transfer22-2023-04-15-12-05-36-695\n",
      "Completed job: pytorch-style-transfer22-2023-04-15-12-05-44-512\n",
      "Completed job: pytorch-style-transfer22-2023-04-15-11-09-01-111\n",
      "Completed job: pytorch-style-transfer22-2023-04-15-11-09-08-256\n",
      "Completed job: pytorch-style-transfer22-2023-04-15-12-05-43-908\n",
      "Completed job: pytorch-style-transfer22-2023-04-15-11-09-05-115\n",
      "Completed job: pytorch-style-transfer22-2023-04-15-11-09-06-670\n",
      "Completed job: pytorch-style-transfer22-2023-04-15-12-05-37-456\n",
      "Completed job: pytorch-style-transfer22-2023-04-15-12-05-46-909\n",
      "Waiting for incomplete jobs: set()\n"
     ]
    }
   ],
   "source": [
    "hyperparams_keys = ['content_image', 'style_image', 'num_steps', 'num_iter', 'style_weight', 'content_weight']\n",
    "failed_jobs = set(['pytorch-style-transfer22-2023-04-15-11-09-02-400', 'pytorch-style-transfer22-2023-04-15-12-42-10-103'])\n",
    "\n",
    "incomplete_jobs = set(estimator_names) - failed_jobs\n",
    "print('Waiting for incomplete jobs:',incomplete_jobs)\n",
    "\n",
    "completed_jobs = set()\n",
    "\n",
    "sm = boto3.Session().client('sagemaker')\n",
    "\n",
    "while incomplete_jobs:\n",
    "    \n",
    "    for job_name in incomplete_jobs:\n",
    "        \n",
    "        status = sm.describe_training_job(TrainingJobName=job_name)['TrainingJobStatus']\n",
    "        \n",
    "        if status == 'Completed':\n",
    "            \n",
    "            print(f'Completed job: {job_name}')\n",
    "            completed_jobs.add(job_name)\n",
    "            output_results_img_path = f'{OUTPUT_RESULTS_PATH}/{job_name}.jpg'\n",
    "            \n",
    "            if not os.path.isfile(output_results_img_path): \n",
    "                \n",
    "                estimator = Estimator.attach(job_name) \n",
    "                save_estimator_hyperparams(estimator)\n",
    "                download_output_images(estimator)\n",
    "                save_experiment(estimator, hyperparams_keys)\n",
    "                \n",
    "            \n",
    "    if completed_jobs:       \n",
    "        incomplete_jobs = incomplete_jobs - completed_jobs\n",
    "        print('Waiting for incomplete jobs:',incomplete_jobs)\n",
    "\n",
    "    sleep(30)"
   ]
  },
  {
   "cell_type": "code",
   "execution_count": 76,
   "id": "4b6f3a6d-0230-49e2-9ab7-ff506c91dc03",
   "metadata": {
    "tags": []
   },
   "outputs": [
    {
     "data": {
      "text/plain": [
       "{'TrainingJobName': 'pytorch-style-transfer22-2023-04-11-09-06-19-859',\n",
       " 'TrainingJobArn': 'arn:aws:sagemaker:us-east-1:798714931926:training-job/pytorch-style-transfer22-2023-04-11-09-06-19-859',\n",
       " 'ModelArtifacts': {'S3ModelArtifacts': 's3://sagemaker-studio-sr1encmpcxc/output/pytorch-style-transfer22-2023-04-11-09-06-19-859/output/model.tar.gz'},\n",
       " 'TrainingJobStatus': 'Completed',\n",
       " 'SecondaryStatus': 'Completed',\n",
       " 'HyperParameters': {'content_image': '\"sphynx_cat.jpg\"',\n",
       "  'num_iter': '4',\n",
       "  'num_steps': '300',\n",
       "  'sagemaker_container_log_level': '20',\n",
       "  'sagemaker_job_name': '\"pytorch-style-transfer22-2023-04-11-09-06-19-859\"',\n",
       "  'sagemaker_program': '\"style_transfer_pytorch.py\"',\n",
       "  'sagemaker_region': '\"us-east-1\"',\n",
       "  'sagemaker_submit_directory': '\"s3://sagemaker-studio-sr1encmpcxc/pytorch-style-transfer22-2023-04-11-09-06-19-859/source/sourcedir.tar.gz\"',\n",
       "  'style_image': '\"Vassily_Kandinsky.jpeg\"'},\n",
       " 'AlgorithmSpecification': {'TrainingImage': '763104351884.dkr.ecr.us-east-1.amazonaws.com/pytorch-training:1.8.0-cpu-py3',\n",
       "  'TrainingInputMode': 'File',\n",
       "  'EnableSageMakerMetricsTimeSeries': True},\n",
       " 'RoleArn': 'arn:aws:iam::798714931926:role/service-role/AmazonSageMaker-ExecutionRole-20230319T062026',\n",
       " 'InputDataConfig': [{'ChannelName': 'CONTENT_DATA',\n",
       "   'DataSource': {'S3DataSource': {'S3DataType': 'S3Prefix',\n",
       "     'S3Uri': 's3://sagemaker-studio-sr1encmpcxc/content-images/',\n",
       "     'S3DataDistributionType': 'FullyReplicated'}},\n",
       "   'CompressionType': 'None',\n",
       "   'RecordWrapperType': 'None'},\n",
       "  {'ChannelName': 'STYLE_DATA',\n",
       "   'DataSource': {'S3DataSource': {'S3DataType': 'S3Prefix',\n",
       "     'S3Uri': 's3://sagemaker-studio-sr1encmpcxc/style-images/',\n",
       "     'S3DataDistributionType': 'FullyReplicated'}},\n",
       "   'CompressionType': 'None',\n",
       "   'RecordWrapperType': 'None'},\n",
       "  {'ChannelName': 'SOMETHING-else',\n",
       "   'DataSource': {'S3DataSource': {'S3DataType': 'S3Prefix',\n",
       "     'S3Uri': 's3://sagemaker-studio-sr1encmpcxc/',\n",
       "     'S3DataDistributionType': 'FullyReplicated'}},\n",
       "   'CompressionType': 'None',\n",
       "   'RecordWrapperType': 'None'}],\n",
       " 'OutputDataConfig': {'KmsKeyId': '',\n",
       "  'S3OutputPath': 's3://sagemaker-studio-sr1encmpcxc/output/'},\n",
       " 'ResourceConfig': {'InstanceType': 'ml.m5.large',\n",
       "  'InstanceCount': 1,\n",
       "  'VolumeSizeInGB': 30},\n",
       " 'StoppingCondition': {'MaxRuntimeInSeconds': 86400},\n",
       " 'CreationTime': datetime.datetime(2023, 4, 11, 9, 6, 20, 185000, tzinfo=tzlocal()),\n",
       " 'TrainingStartTime': datetime.datetime(2023, 4, 11, 9, 7, 28, 656000, tzinfo=tzlocal()),\n",
       " 'TrainingEndTime': datetime.datetime(2023, 4, 11, 10, 21, 55, 174000, tzinfo=tzlocal()),\n",
       " 'LastModifiedTime': datetime.datetime(2023, 4, 11, 10, 22, 10, 39000, tzinfo=tzlocal()),\n",
       " 'SecondaryStatusTransitions': [{'Status': 'Starting',\n",
       "   'StartTime': datetime.datetime(2023, 4, 11, 9, 6, 20, 185000, tzinfo=tzlocal()),\n",
       "   'EndTime': datetime.datetime(2023, 4, 11, 9, 7, 28, 656000, tzinfo=tzlocal()),\n",
       "   'StatusMessage': 'Preparing the instances for training'},\n",
       "  {'Status': 'Downloading',\n",
       "   'StartTime': datetime.datetime(2023, 4, 11, 9, 7, 28, 656000, tzinfo=tzlocal()),\n",
       "   'EndTime': datetime.datetime(2023, 4, 11, 9, 8, 9, 161000, tzinfo=tzlocal()),\n",
       "   'StatusMessage': 'Downloading input data'},\n",
       "  {'Status': 'Training',\n",
       "   'StartTime': datetime.datetime(2023, 4, 11, 9, 8, 9, 161000, tzinfo=tzlocal()),\n",
       "   'EndTime': datetime.datetime(2023, 4, 11, 10, 21, 49, 650000, tzinfo=tzlocal()),\n",
       "   'StatusMessage': 'Training image download completed. Training in progress.'},\n",
       "  {'Status': 'Uploading',\n",
       "   'StartTime': datetime.datetime(2023, 4, 11, 10, 21, 49, 650000, tzinfo=tzlocal()),\n",
       "   'EndTime': datetime.datetime(2023, 4, 11, 10, 21, 55, 174000, tzinfo=tzlocal()),\n",
       "   'StatusMessage': 'Uploading generated training model'},\n",
       "  {'Status': 'Completed',\n",
       "   'StartTime': datetime.datetime(2023, 4, 11, 10, 21, 55, 174000, tzinfo=tzlocal()),\n",
       "   'EndTime': datetime.datetime(2023, 4, 11, 10, 21, 55, 174000, tzinfo=tzlocal()),\n",
       "   'StatusMessage': 'Training job completed'}],\n",
       " 'EnableNetworkIsolation': False,\n",
       " 'EnableInterContainerTrafficEncryption': False,\n",
       " 'EnableManagedSpotTraining': False,\n",
       " 'TrainingTimeInSeconds': 4467,\n",
       " 'BillableTimeInSeconds': 4467,\n",
       " 'DebugHookConfig': {'S3OutputPath': 's3://sagemaker-studio-sr1encmpcxc/output/',\n",
       "  'CollectionConfigurations': []},\n",
       " 'ProfilerConfig': {'S3OutputPath': 's3://sagemaker-studio-sr1encmpcxc/output/',\n",
       "  'ProfilingIntervalInMilliseconds': 500,\n",
       "  'DisableProfiler': False},\n",
       " 'ProfilerRuleConfigurations': [{'RuleConfigurationName': 'ProfilerReport-1681203979',\n",
       "   'RuleEvaluatorImage': '503895931360.dkr.ecr.us-east-1.amazonaws.com/sagemaker-debugger-rules:latest',\n",
       "   'VolumeSizeInGB': 0,\n",
       "   'RuleParameters': {'rule_to_invoke': 'ProfilerReport'}}],\n",
       " 'ProfilerRuleEvaluationStatuses': [{'RuleConfigurationName': 'ProfilerReport-1681203979',\n",
       "   'RuleEvaluationJobArn': 'arn:aws:sagemaker:us-east-1:798714931926:processing-job/pytorch-style-transfer22-2-profilerreport-1681203979-fbb6a587',\n",
       "   'RuleEvaluationStatus': 'NoIssuesFound',\n",
       "   'LastModifiedTime': datetime.datetime(2023, 4, 11, 10, 22, 10, 33000, tzinfo=tzlocal())}],\n",
       " 'ProfilingStatus': 'Enabled',\n",
       " 'ResponseMetadata': {'RequestId': 'aa19b247-040d-4598-832c-2a8b88fa0d6b',\n",
       "  'HTTPStatusCode': 200,\n",
       "  'HTTPHeaders': {'x-amzn-requestid': 'aa19b247-040d-4598-832c-2a8b88fa0d6b',\n",
       "   'content-type': 'application/x-amz-json-1.1',\n",
       "   'content-length': '4429',\n",
       "   'date': 'Sat, 15 Apr 2023 09:01:33 GMT'},\n",
       "  'RetryAttempts': 0}}"
      ]
     },
     "execution_count": 76,
     "metadata": {},
     "output_type": "execute_result"
    }
   ],
   "source": [
    "sm.describe_training_job(TrainingJobName=\"pytorch-style-transfer22-2023-04-11-09-06-19-859\")"
   ]
  }
 ],
 "metadata": {
  "availableInstances": [
   {
    "_defaultOrder": 0,
    "_isFastLaunch": true,
    "category": "General purpose",
    "gpuNum": 0,
    "memoryGiB": 4,
    "name": "ml.t3.medium",
    "vcpuNum": 2
   },
   {
    "_defaultOrder": 1,
    "_isFastLaunch": false,
    "category": "General purpose",
    "gpuNum": 0,
    "memoryGiB": 8,
    "name": "ml.t3.large",
    "vcpuNum": 2
   },
   {
    "_defaultOrder": 2,
    "_isFastLaunch": false,
    "category": "General purpose",
    "gpuNum": 0,
    "memoryGiB": 16,
    "name": "ml.t3.xlarge",
    "vcpuNum": 4
   },
   {
    "_defaultOrder": 3,
    "_isFastLaunch": false,
    "category": "General purpose",
    "gpuNum": 0,
    "memoryGiB": 32,
    "name": "ml.t3.2xlarge",
    "vcpuNum": 8
   },
   {
    "_defaultOrder": 4,
    "_isFastLaunch": true,
    "category": "General purpose",
    "gpuNum": 0,
    "memoryGiB": 8,
    "name": "ml.m5.large",
    "vcpuNum": 2
   },
   {
    "_defaultOrder": 5,
    "_isFastLaunch": false,
    "category": "General purpose",
    "gpuNum": 0,
    "memoryGiB": 16,
    "name": "ml.m5.xlarge",
    "vcpuNum": 4
   },
   {
    "_defaultOrder": 6,
    "_isFastLaunch": false,
    "category": "General purpose",
    "gpuNum": 0,
    "memoryGiB": 32,
    "name": "ml.m5.2xlarge",
    "vcpuNum": 8
   },
   {
    "_defaultOrder": 7,
    "_isFastLaunch": false,
    "category": "General purpose",
    "gpuNum": 0,
    "memoryGiB": 64,
    "name": "ml.m5.4xlarge",
    "vcpuNum": 16
   },
   {
    "_defaultOrder": 8,
    "_isFastLaunch": false,
    "category": "General purpose",
    "gpuNum": 0,
    "memoryGiB": 128,
    "name": "ml.m5.8xlarge",
    "vcpuNum": 32
   },
   {
    "_defaultOrder": 9,
    "_isFastLaunch": false,
    "category": "General purpose",
    "gpuNum": 0,
    "memoryGiB": 192,
    "name": "ml.m5.12xlarge",
    "vcpuNum": 48
   },
   {
    "_defaultOrder": 10,
    "_isFastLaunch": false,
    "category": "General purpose",
    "gpuNum": 0,
    "memoryGiB": 256,
    "name": "ml.m5.16xlarge",
    "vcpuNum": 64
   },
   {
    "_defaultOrder": 11,
    "_isFastLaunch": false,
    "category": "General purpose",
    "gpuNum": 0,
    "memoryGiB": 384,
    "name": "ml.m5.24xlarge",
    "vcpuNum": 96
   },
   {
    "_defaultOrder": 12,
    "_isFastLaunch": false,
    "category": "General purpose",
    "gpuNum": 0,
    "memoryGiB": 8,
    "name": "ml.m5d.large",
    "vcpuNum": 2
   },
   {
    "_defaultOrder": 13,
    "_isFastLaunch": false,
    "category": "General purpose",
    "gpuNum": 0,
    "memoryGiB": 16,
    "name": "ml.m5d.xlarge",
    "vcpuNum": 4
   },
   {
    "_defaultOrder": 14,
    "_isFastLaunch": false,
    "category": "General purpose",
    "gpuNum": 0,
    "memoryGiB": 32,
    "name": "ml.m5d.2xlarge",
    "vcpuNum": 8
   },
   {
    "_defaultOrder": 15,
    "_isFastLaunch": false,
    "category": "General purpose",
    "gpuNum": 0,
    "memoryGiB": 64,
    "name": "ml.m5d.4xlarge",
    "vcpuNum": 16
   },
   {
    "_defaultOrder": 16,
    "_isFastLaunch": false,
    "category": "General purpose",
    "gpuNum": 0,
    "memoryGiB": 128,
    "name": "ml.m5d.8xlarge",
    "vcpuNum": 32
   },
   {
    "_defaultOrder": 17,
    "_isFastLaunch": false,
    "category": "General purpose",
    "gpuNum": 0,
    "memoryGiB": 192,
    "name": "ml.m5d.12xlarge",
    "vcpuNum": 48
   },
   {
    "_defaultOrder": 18,
    "_isFastLaunch": false,
    "category": "General purpose",
    "gpuNum": 0,
    "memoryGiB": 256,
    "name": "ml.m5d.16xlarge",
    "vcpuNum": 64
   },
   {
    "_defaultOrder": 19,
    "_isFastLaunch": false,
    "category": "General purpose",
    "gpuNum": 0,
    "memoryGiB": 384,
    "name": "ml.m5d.24xlarge",
    "vcpuNum": 96
   },
   {
    "_defaultOrder": 20,
    "_isFastLaunch": true,
    "category": "Compute optimized",
    "gpuNum": 0,
    "memoryGiB": 4,
    "name": "ml.c5.large",
    "vcpuNum": 2
   },
   {
    "_defaultOrder": 21,
    "_isFastLaunch": false,
    "category": "Compute optimized",
    "gpuNum": 0,
    "memoryGiB": 8,
    "name": "ml.c5.xlarge",
    "vcpuNum": 4
   },
   {
    "_defaultOrder": 22,
    "_isFastLaunch": false,
    "category": "Compute optimized",
    "gpuNum": 0,
    "memoryGiB": 16,
    "name": "ml.c5.2xlarge",
    "vcpuNum": 8
   },
   {
    "_defaultOrder": 23,
    "_isFastLaunch": false,
    "category": "Compute optimized",
    "gpuNum": 0,
    "memoryGiB": 32,
    "name": "ml.c5.4xlarge",
    "vcpuNum": 16
   },
   {
    "_defaultOrder": 24,
    "_isFastLaunch": false,
    "category": "Compute optimized",
    "gpuNum": 0,
    "memoryGiB": 72,
    "name": "ml.c5.9xlarge",
    "vcpuNum": 36
   },
   {
    "_defaultOrder": 25,
    "_isFastLaunch": false,
    "category": "Compute optimized",
    "gpuNum": 0,
    "memoryGiB": 96,
    "name": "ml.c5.12xlarge",
    "vcpuNum": 48
   },
   {
    "_defaultOrder": 26,
    "_isFastLaunch": false,
    "category": "Compute optimized",
    "gpuNum": 0,
    "memoryGiB": 144,
    "name": "ml.c5.18xlarge",
    "vcpuNum": 72
   },
   {
    "_defaultOrder": 27,
    "_isFastLaunch": false,
    "category": "Compute optimized",
    "gpuNum": 0,
    "memoryGiB": 192,
    "name": "ml.c5.24xlarge",
    "vcpuNum": 96
   },
   {
    "_defaultOrder": 28,
    "_isFastLaunch": true,
    "category": "Accelerated computing",
    "gpuNum": 1,
    "memoryGiB": 16,
    "name": "ml.g4dn.xlarge",
    "vcpuNum": 4
   },
   {
    "_defaultOrder": 29,
    "_isFastLaunch": false,
    "category": "Accelerated computing",
    "gpuNum": 1,
    "memoryGiB": 32,
    "name": "ml.g4dn.2xlarge",
    "vcpuNum": 8
   },
   {
    "_defaultOrder": 30,
    "_isFastLaunch": false,
    "category": "Accelerated computing",
    "gpuNum": 1,
    "memoryGiB": 64,
    "name": "ml.g4dn.4xlarge",
    "vcpuNum": 16
   },
   {
    "_defaultOrder": 31,
    "_isFastLaunch": false,
    "category": "Accelerated computing",
    "gpuNum": 1,
    "memoryGiB": 128,
    "name": "ml.g4dn.8xlarge",
    "vcpuNum": 32
   },
   {
    "_defaultOrder": 32,
    "_isFastLaunch": false,
    "category": "Accelerated computing",
    "gpuNum": 4,
    "memoryGiB": 192,
    "name": "ml.g4dn.12xlarge",
    "vcpuNum": 48
   },
   {
    "_defaultOrder": 33,
    "_isFastLaunch": false,
    "category": "Accelerated computing",
    "gpuNum": 1,
    "memoryGiB": 256,
    "name": "ml.g4dn.16xlarge",
    "vcpuNum": 64
   },
   {
    "_defaultOrder": 34,
    "_isFastLaunch": false,
    "category": "Accelerated computing",
    "gpuNum": 1,
    "memoryGiB": 61,
    "name": "ml.p3.2xlarge",
    "vcpuNum": 8
   },
   {
    "_defaultOrder": 35,
    "_isFastLaunch": false,
    "category": "Accelerated computing",
    "gpuNum": 4,
    "memoryGiB": 244,
    "name": "ml.p3.8xlarge",
    "vcpuNum": 32
   },
   {
    "_defaultOrder": 36,
    "_isFastLaunch": false,
    "category": "Accelerated computing",
    "gpuNum": 8,
    "memoryGiB": 488,
    "name": "ml.p3.16xlarge",
    "vcpuNum": 64
   },
   {
    "_defaultOrder": 37,
    "_isFastLaunch": false,
    "category": "Accelerated computing",
    "gpuNum": 8,
    "memoryGiB": 768,
    "name": "ml.p3dn.24xlarge",
    "vcpuNum": 96
   },
   {
    "_defaultOrder": 38,
    "_isFastLaunch": false,
    "category": "Memory Optimized",
    "gpuNum": 0,
    "memoryGiB": 16,
    "name": "ml.r5.large",
    "vcpuNum": 2
   },
   {
    "_defaultOrder": 39,
    "_isFastLaunch": false,
    "category": "Memory Optimized",
    "gpuNum": 0,
    "memoryGiB": 32,
    "name": "ml.r5.xlarge",
    "vcpuNum": 4
   },
   {
    "_defaultOrder": 40,
    "_isFastLaunch": false,
    "category": "Memory Optimized",
    "gpuNum": 0,
    "memoryGiB": 64,
    "name": "ml.r5.2xlarge",
    "vcpuNum": 8
   },
   {
    "_defaultOrder": 41,
    "_isFastLaunch": false,
    "category": "Memory Optimized",
    "gpuNum": 0,
    "memoryGiB": 128,
    "name": "ml.r5.4xlarge",
    "vcpuNum": 16
   },
   {
    "_defaultOrder": 42,
    "_isFastLaunch": false,
    "category": "Memory Optimized",
    "gpuNum": 0,
    "memoryGiB": 256,
    "name": "ml.r5.8xlarge",
    "vcpuNum": 32
   },
   {
    "_defaultOrder": 43,
    "_isFastLaunch": false,
    "category": "Memory Optimized",
    "gpuNum": 0,
    "memoryGiB": 384,
    "name": "ml.r5.12xlarge",
    "vcpuNum": 48
   },
   {
    "_defaultOrder": 44,
    "_isFastLaunch": false,
    "category": "Memory Optimized",
    "gpuNum": 0,
    "memoryGiB": 512,
    "name": "ml.r5.16xlarge",
    "vcpuNum": 64
   },
   {
    "_defaultOrder": 45,
    "_isFastLaunch": false,
    "category": "Memory Optimized",
    "gpuNum": 0,
    "memoryGiB": 768,
    "name": "ml.r5.24xlarge",
    "vcpuNum": 96
   },
   {
    "_defaultOrder": 46,
    "_isFastLaunch": false,
    "category": "Accelerated computing",
    "gpuNum": 1,
    "memoryGiB": 16,
    "name": "ml.g5.xlarge",
    "vcpuNum": 4
   },
   {
    "_defaultOrder": 47,
    "_isFastLaunch": false,
    "category": "Accelerated computing",
    "gpuNum": 1,
    "memoryGiB": 32,
    "name": "ml.g5.2xlarge",
    "vcpuNum": 8
   },
   {
    "_defaultOrder": 48,
    "_isFastLaunch": false,
    "category": "Accelerated computing",
    "gpuNum": 1,
    "memoryGiB": 64,
    "name": "ml.g5.4xlarge",
    "vcpuNum": 16
   },
   {
    "_defaultOrder": 49,
    "_isFastLaunch": false,
    "category": "Accelerated computing",
    "gpuNum": 1,
    "memoryGiB": 128,
    "name": "ml.g5.8xlarge",
    "vcpuNum": 32
   },
   {
    "_defaultOrder": 50,
    "_isFastLaunch": false,
    "category": "Accelerated computing",
    "gpuNum": 1,
    "memoryGiB": 256,
    "name": "ml.g5.16xlarge",
    "vcpuNum": 64
   },
   {
    "_defaultOrder": 51,
    "_isFastLaunch": false,
    "category": "Accelerated computing",
    "gpuNum": 4,
    "memoryGiB": 192,
    "name": "ml.g5.12xlarge",
    "vcpuNum": 48
   },
   {
    "_defaultOrder": 52,
    "_isFastLaunch": false,
    "category": "Accelerated computing",
    "gpuNum": 4,
    "memoryGiB": 384,
    "name": "ml.g5.24xlarge",
    "vcpuNum": 96
   },
   {
    "_defaultOrder": 53,
    "_isFastLaunch": false,
    "category": "Accelerated computing",
    "gpuNum": 8,
    "memoryGiB": 768,
    "name": "ml.g5.48xlarge",
    "vcpuNum": 192
   }
  ],
  "instance_type": "ml.t3.medium",
  "kernelspec": {
   "display_name": "Python 3 (TensorFlow 2.11.0 Python 3.9 CPU Optimized)",
   "language": "python",
   "name": "python3__SAGEMAKER_INTERNAL__arn:aws:sagemaker:us-east-1:081325390199:image/tensorflow-2.11.0-cpu-py39-ubuntu20.04-sagemaker-v1.1"
  },
  "language_info": {
   "codemirror_mode": {
    "name": "ipython",
    "version": 3
   },
   "file_extension": ".py",
   "mimetype": "text/x-python",
   "name": "python",
   "nbconvert_exporter": "python",
   "pygments_lexer": "ipython3",
   "version": "3.9.10"
  }
 },
 "nbformat": 4,
 "nbformat_minor": 5
}
