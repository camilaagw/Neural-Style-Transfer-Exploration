{
 "cells": [
  {
   "cell_type": "code",
   "execution_count": 13,
   "id": "front-freeze",
   "metadata": {},
   "outputs": [
    {
     "ename": "NameError",
     "evalue": "name 'args' is not defined",
     "output_type": "error",
     "traceback": [
      "\u001b[0;31m---------------------------------------------------------------------------\u001b[0m",
      "\u001b[0;31mNameError\u001b[0m                                 Traceback (most recent call last)",
      "\u001b[0;32m<ipython-input-13-5856e82db04f>\u001b[0m in \u001b[0;36m<module>\u001b[0;34m\u001b[0m\n\u001b[1;32m     69\u001b[0m \u001b[0;34m\u001b[0m\u001b[0m\n\u001b[1;32m     70\u001b[0m \u001b[0;34m\u001b[0m\u001b[0m\n\u001b[0;32m---> 71\u001b[0;31m \u001b[0mmain\u001b[0m\u001b[0;34m(\u001b[0m\u001b[0;34m)\u001b[0m\u001b[0;34m\u001b[0m\u001b[0;34m\u001b[0m\u001b[0m\n\u001b[0m",
      "\u001b[0;32m<ipython-input-13-5856e82db04f>\u001b[0m in \u001b[0;36mmain\u001b[0;34m()\u001b[0m\n\u001b[1;32m     35\u001b[0m \u001b[0;34m\u001b[0m\u001b[0m\n\u001b[1;32m     36\u001b[0m  \u001b[0;31m# Import images\u001b[0m\u001b[0;34m\u001b[0m\u001b[0;34m\u001b[0m\u001b[0;34m\u001b[0m\u001b[0m\n\u001b[0;32m---> 37\u001b[0;31m  \u001b[0mimage1\u001b[0m \u001b[0;34m=\u001b[0m \u001b[0mcv2\u001b[0m\u001b[0;34m.\u001b[0m\u001b[0mimread\u001b[0m\u001b[0;34m(\u001b[0m\u001b[0margs\u001b[0m\u001b[0;34m.\u001b[0m\u001b[0mfirst\u001b[0m\u001b[0;34m)\u001b[0m\u001b[0;34m\u001b[0m\u001b[0;34m\u001b[0m\u001b[0m\n\u001b[0m\u001b[1;32m     38\u001b[0m  \u001b[0mimage2\u001b[0m \u001b[0;34m=\u001b[0m \u001b[0mcv2\u001b[0m\u001b[0;34m.\u001b[0m\u001b[0mimread\u001b[0m\u001b[0;34m(\u001b[0m\u001b[0margs\u001b[0m\u001b[0;34m.\u001b[0m\u001b[0msecond\u001b[0m\u001b[0;34m,\u001b[0m \u001b[0;36m1\u001b[0m\u001b[0;34m)\u001b[0m\u001b[0;34m\u001b[0m\u001b[0;34m\u001b[0m\u001b[0m\n\u001b[1;32m     39\u001b[0m \u001b[0;34m\u001b[0m\u001b[0m\n",
      "\u001b[0;31mNameError\u001b[0m: name 'args' is not defined"
     ]
    }
   ],
   "source": [
    "#!/usr/bin/env python\n",
    "\n",
    "from skimage.metrics import structural_similarity as ssim\n",
    "import numpy as np\n",
    "import cv2\n",
    "import argparse\n",
    "\n",
    "def options():\n",
    " parser = argparse.ArgumentParser(description=\"Read image metadata\")\n",
    " parser.add_argument(\"-o\", \"--first\", help=\"Input image file.\", required=True)\n",
    " parser.add_argument(\"-c\", \"--second\", help=\"Input image file.\", required=True)\n",
    " args = parser.parse_args()\n",
    " return args\n",
    "\n",
    "def mse(imageA, imageB):\n",
    " # the 'Mean Squared Error' between the two images is the sum of the squared difference between the two images\n",
    " mse_error = np.sum((imageA.astype(\"float\") - imageB.astype(\"float\")) ** 2)\n",
    " mse_error /= float(imageA.shape[0] * imageA.shape[1])\n",
    "\t\n",
    " # return the MSE. The lower the error, the more \"similar\" the two images are.\n",
    " return mse_error\n",
    "\n",
    "def compare(imageA, imageB):\n",
    " # Calculate the MSE and SSIM\n",
    " m = mse(imageA, imageB)\n",
    " s = ssim(imageA, imageB)\n",
    "\n",
    " # Return the SSIM. The higher the value, the more \"similar\" the two images are.\n",
    " return s\n",
    "\n",
    "def main(): \n",
    "\n",
    " # Get options\n",
    " #args = options()\n",
    "\n",
    " # Import images\n",
    " image1 = cv2.imread(args.first)\n",
    " image2 = cv2.imread(args.second, 1)\n",
    "\n",
    " # Convert the images to grayscale\n",
    " gray1 = cv2.cvtColor(image1, cv2.COLOR_BGR2GRAY)\n",
    " gray2 = cv2.cvtColor(image2, cv2.COLOR_BGR2GRAY)\n",
    "\n",
    " # Check for same size and ratio and report accordingly\n",
    " ho, wo, _ = image1.shape\n",
    " hc, wc, _ = image2.shape\n",
    " ratio_orig = ho/wo\n",
    " ratio_comp = hc/wc\n",
    " dim = (wc, hc)\n",
    "\n",
    " if round(ratio_orig, 2) != round(ratio_comp, 2):\n",
    "  print(\"\\nImages not of the same dimension. Check input.\")\n",
    "  exit()\n",
    "\n",
    " # Resize first image if the second image is smaller\n",
    " elif ho > hc and wo > wc:\n",
    "  print(\"\\nResizing original image for analysis...\")\n",
    "  gray1 = cv2.resize(gray1, dim)\n",
    "\n",
    " elif ho < hc and wo < wc:\n",
    "  print(\"\\nCompressed image has a larger dimension than the original. Check input.\")\n",
    "  exit()\n",
    "\n",
    " if round(ratio_orig, 2) == round(ratio_comp, 2):\n",
    "  mse_value = mse(gray1, gray2)\n",
    "  ssim_value = compare(gray1, gray2)\n",
    "  print(\"MSE:\", mse_value)\n",
    "  print(\"SSIM:\", ssim_value)\n",
    "\n",
    "\n",
    "main()"
   ]
  },
  {
   "cell_type": "code",
   "execution_count": 9,
   "id": "bound-roulette",
   "metadata": {},
   "outputs": [
    {
     "name": "stdout",
     "output_type": "stream",
     "text": [
      "Requirement already satisfied: scikit-image in /opt/miniconda3/lib/python3.8/site-packages (0.20.0)\n",
      "Collecting opencv-python\n",
      "  Downloading opencv-python-4.7.0.72.tar.gz (91.1 MB)\n",
      "\u001b[K     |████████████████████████████████| 91.1 MB 134.5 MB/s eta 0:00:01\n",
      "\u001b[?25h  Installing build dependencies ... \u001b[?25ldone\n",
      "\u001b[?25h  Getting requirements to build wheel ... \u001b[?25ldone\n",
      "\u001b[?25h    Preparing wheel metadata ... \u001b[?25ldone\n",
      "\u001b[?25hRequirement already satisfied: pillow>=9.0.1 in /opt/miniconda3/lib/python3.8/site-packages (from scikit-image) (9.4.0)\n",
      "Requirement already satisfied: networkx>=2.8 in /opt/miniconda3/lib/python3.8/site-packages (from scikit-image) (3.0)\n",
      "Requirement already satisfied: packaging>=20.0 in /opt/miniconda3/lib/python3.8/site-packages (from scikit-image) (20.9)\n",
      "Requirement already satisfied: lazy_loader>=0.1 in /opt/miniconda3/lib/python3.8/site-packages (from scikit-image) (0.1)\n",
      "Requirement already satisfied: PyWavelets>=1.1.1 in /opt/miniconda3/lib/python3.8/site-packages (from scikit-image) (1.4.1)\n",
      "Requirement already satisfied: scipy<1.9.2,>=1.8; python_version <= \"3.9\" in /opt/miniconda3/lib/python3.8/site-packages (from scikit-image) (1.9.1)\n",
      "Requirement already satisfied: numpy>=1.21.1 in /opt/miniconda3/lib/python3.8/site-packages (from scikit-image) (1.24.2)\n",
      "Requirement already satisfied: tifffile>=2019.7.26 in /opt/miniconda3/lib/python3.8/site-packages (from scikit-image) (2023.2.28)\n",
      "Requirement already satisfied: imageio>=2.4.1 in /opt/miniconda3/lib/python3.8/site-packages (from scikit-image) (2.26.0)\n",
      "Requirement already satisfied: pyparsing>=2.0.2 in /opt/miniconda3/lib/python3.8/site-packages (from packaging>=20.0->scikit-image) (2.4.7)\n",
      "Building wheels for collected packages: opencv-python\n",
      "  Building wheel for opencv-python (PEP 517) ... \u001b[?25ldone\n",
      "\u001b[?25h  Created wheel for opencv-python: filename=opencv_python-4.7.0.72-cp38-cp38-macosx_10_15_x86_64.whl size=26923723 sha256=3450c6a39a63335b2363a6aafe4c2b73d50578296452678a5f2aeeb16acca17b\n",
      "  Stored in directory: /Users/cagw/Library/Caches/pip/wheels/b3/d1/a4/c1da6d180c2a5c587b8c1ed5657abc7a125282cddf95bf55c8\n",
      "Successfully built opencv-python\n",
      "Installing collected packages: opencv-python\n",
      "Successfully installed opencv-python-4.7.0.72\n"
     ]
    }
   ],
   "source": [
    "! pip install scikit-image  opencv-python"
   ]
  },
  {
   "cell_type": "code",
   "execution_count": null,
   "id": "economic-amplifier",
   "metadata": {},
   "outputs": [],
   "source": []
  }
 ],
 "metadata": {
  "kernelspec": {
   "display_name": "Python 3",
   "language": "python",
   "name": "python3"
  },
  "language_info": {
   "codemirror_mode": {
    "name": "ipython",
    "version": 3
   },
   "file_extension": ".py",
   "mimetype": "text/x-python",
   "name": "python",
   "nbconvert_exporter": "python",
   "pygments_lexer": "ipython3",
   "version": "3.8.3"
  }
 },
 "nbformat": 4,
 "nbformat_minor": 5
}
